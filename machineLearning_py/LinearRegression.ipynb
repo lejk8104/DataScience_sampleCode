{
  "nbformat": 4,
  "nbformat_minor": 0,
  "metadata": {
    "colab": {
      "name": "LinearRegression",
      "provenance": [],
      "collapsed_sections": []
    },
    "kernelspec": {
      "name": "python3",
      "display_name": "Python 3"
    },
    "accelerator": "TPU"
  },
  "cells": [
    {
      "cell_type": "code",
      "metadata": {
        "id": "ehh9e1lYXeYH",
        "colab_type": "code",
        "outputId": "699682b9-3a85-4b2b-9d20-6bc1d2407d33",
        "colab": {
          "base_uri": "https://localhost:8080/",
          "height": 318
        }
      },
      "source": [
        "from matplotlib import pyplot as plt\n",
        "\n",
        "x=[1,2,4]\n",
        "y=[2,1,3]\n",
        "\n",
        "plt.grid(b=True)\n",
        "plt.xlabel(\"x\")\n",
        "plt.ylabel(\"y\")\n",
        "plt.axis([0,10,0,10])\n",
        "plt.scatter(x,y)\n",
        "\n",
        "for i in range(0,len(x)):\n",
        "  label = \"(\" + str(x[i]) + \",\" + str(y[i]) + \")\"\n",
        "  plt.annotate(label, xy = (x[i], y[i]), xytext = (5,-5), textcoords = 'offset points')\n",
        "\n",
        "def findnum_bar(num):\n",
        "  sum_=0\n",
        "  for i in range(0,len(num)):\n",
        "    sum_ += num[i]\n",
        "  return sum_/len(num)\n",
        "\n",
        "def findxy_bar(num1,num2):\n",
        "  sum_=0\n",
        "  for i in range(0,len(num2)):\n",
        "      # print(\"num1, num2\",num1[i],num2[i])\n",
        "      sum_ += num1[i]*num2[i]\n",
        "      # print(\"sum\",i,sum_)\n",
        "  return sum_/len(num1)\n",
        "\n",
        "def findM(x_bar,y_bar,xy_bar,x_squre):\n",
        "  m = x_bar*y_bar-xy_bar\n",
        "  t = (x_bar**2-x_bar_scare)\n",
        "\n",
        "  # print(\"m/t\",m/t)\n",
        "  return m/t\n",
        "def squre(num,pow):\n",
        "  for i in range(0,len(num)):\n",
        "    # print(num[i])\n",
        "    num[i] = (num[i]**pow)\n",
        "  return num\n",
        "\n",
        "def findB(y_bar,x_bar,m):\n",
        "  return ybar-m*x_bar\n",
        "\n",
        "x_bar = findnum_bar(x)\n",
        "# print(\"x_bar:\",x_bar)\n",
        "y_bar = findnum_bar(y)\n",
        "# print(\"y_bar:\",y_bar)\n",
        "xy_bar = findxy_bar(x,y)\n",
        "# print(\"xy_bar:\",xy_bar)\n",
        "x_squre = squre(x,2)\n",
        "# print(\"x_square\",x_squre)\n",
        "x_bar_scare = findnum_bar(x_squre)\n",
        "# print(\"x_bar_scare:\",x_bar_scare)\n",
        "\n",
        "m= findM(x_bar,y_bar,xy_bar,x_bar_scare)\n",
        "b= findB(y_bar,x_bar,m)\n",
        "\n",
        "xs = []\n",
        "ys = []\n",
        "# xs = [0,-b/m]\n",
        "# ys = [b,0]\n",
        "for i in range(0,11,2):\n",
        "  xs.append(i)\n",
        "  ys.append(i*m+b)\n",
        "  \n",
        "print(\"m\",m)\n",
        "print(\"b\",b)\n",
        "\n",
        "plt.plot(xs,ys,color='green')\n",
        "plt.show()"
      ],
      "execution_count": 81,
      "outputs": [
        {
          "output_type": "stream",
          "text": [
            "m 0.4285714285714285\n",
            "b 1.0\n"
          ],
          "name": "stdout"
        },
        {
          "output_type": "display_data",
          "data": {
            "image/png": "[encoded data removed]",
            "text/plain": [
              "<Figure size 432x288 with 1 Axes>"
            ]
          },
          "metadata": {
            "tags": [],
            "needs_background": "light"
          }
        }
      ]
    }
  ]
}