{
  "nbformat": 4,
  "nbformat_minor": 0,
  "metadata": {
    "colab": {
      "name": "Perceptron_r01_notworking_just_make",
      "provenance": []
    },
    "kernelspec": {
      "name": "python3",
      "display_name": "Python 3"
    },
    "accelerator": "TPU"
  },
  "cells": [
    {
      "cell_type": "code",
      "metadata": {
        "id": "r2aSwFhwoje-",
        "colab_type": "code",
        "outputId": "7f35b0cc-6730-4122-c912-22579201212d",
        "colab": {
          "base_uri": "https://localhost:8080/",
          "height": 105
        }
      },
      "source": [
        "import random \n",
        "#from __future__ import print_function\n",
        "\n",
        "def predict(w,x_i):\n",
        "  result = []\n",
        "  for i in range(0,len(x_i)):\n",
        "    answer = 0\n",
        "    # print(\"init\",answer)\n",
        "    answer = w[0]\n",
        "    # print(\"before\",answer)\n",
        "    for j in range(0,len(x_i[0])):\n",
        "      # print(j,\"번째\",x_i[i][j],\"*\",w[j+1])\n",
        "      answer += x_i[i][j]*w[j+1]\n",
        "      # print(\"next\")\n",
        "    # print(\"after\",answer)\n",
        "    if answer >0:\n",
        "      result.append(1)\n",
        "    elif answer <0:\n",
        "      result.append(-1)\n",
        "  return result\n",
        "\n",
        "def learn(w,x,y):\n",
        "  a =predict(w,x)\n",
        "  print(\"w\",w)\n",
        "  print(\"x\",x)\n",
        "  print(\"len y\",len(y))\n",
        "  print(\"predict\",a)\n",
        "  for i in range(0,len(y)):\n",
        "    if (a[i]!=y[i]):\n",
        "      w[0] += y[i]*1\n",
        "      w[1] += y[i]*x[i][0]\n",
        "      w[2] += y[i]*x[i][1]\n",
        "    # print(w)\n",
        "  return w\n",
        "\n",
        "\n",
        "x =[[1,1],\n",
        "    [1,3],\n",
        "    [2,1],\n",
        "    [3,2],\n",
        "    [5,3],\n",
        "    [6,3],\n",
        "    [6,5],\n",
        "    [7,2]]\n",
        "y = [-1,-1,-1,-1,1,1,1,1]\n",
        "w= []   # key 퍼셉트론\n",
        "for i in range(0,3):\n",
        "  w_i = random.uniform(0,1)\n",
        "  w.append(w_i)\n",
        "predict(w,x)\n",
        "a= learn(w,x,y)\n",
        "print(a)\n"
      ],
      "execution_count": 14,
      "outputs": [
        {
          "output_type": "stream",
          "text": [
            "w [0.6131517772014748, 0.37390581882599927, 0.1807195464250726]\n",
            "x [[1, 1], [1, 3], [2, 1], [3, 2], [5, 3], [6, 3], [6, 5], [7, 2]]\n",
            "len y 8\n",
            "predict [1, 1, 1, 1, 1, 1, 1, 1]\n",
            "[-3.386848222798525, -6.626094181174, -6.819280453574928]\n"
          ],
          "name": "stdout"
        }
      ]
    }
  ]
}